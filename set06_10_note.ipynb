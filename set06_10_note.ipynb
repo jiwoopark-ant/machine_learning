{
  "cells": [
    {
      "cell_type": "markdown",
      "metadata": {
        "id": "view-in-github",
        "colab_type": "text"
      },
      "source": [
        "<a href=\"https://colab.research.google.com/github/jiwoopark-ant/machine_learning/blob/master/set06_10_note.ipynb\" target=\"_parent\"><img src=\"https://colab.research.google.com/assets/colab-badge.svg\" alt=\"Open In Colab\"/></a>"
      ]
    },
    {
      "cell_type": "markdown",
      "id": "50ee990e",
      "metadata": {
        "id": "50ee990e"
      },
      "source": [
        "# 문제 06 유형(DataSet_06.csv 이용)"
      ]
    },
    {
      "cell_type": "code",
      "execution_count": null,
      "id": "086471c6",
      "metadata": {
        "id": "086471c6"
      },
      "outputs": [],
      "source": [
        "# =============================================================================\n",
        "# 구분자 : comma(“,”), 4,323 Rows, 19 Columns, UTF-8 인코딩\n",
        "\n",
        "# 주택 관련 정보를 바탕으로 주택 가격을 예측해 보고자 한다.\n",
        "# 다음은 확보한 주택 관련 데이터로 총 19개 컬럼으로 구성되어\n",
        "# 있다.\n",
        "\n",
        "# 컬 럼 / 정 의 / Type\n",
        "# id / 매물 번호 / Double\n",
        "# date / 날짜 / String\n",
        "# price / 거래 가격 / Double\n",
        "# bedrooms / 방 개수 / Double\n",
        "# bathrooms / 화장실 개수 (화장실은 있으나 샤워기 없는 경우 0.5로 처리) / Double\n",
        "# sqft_living / 건축물 면적 / Double\n",
        "# sqft_lot / 대지 면적 / Double\n",
        "# floors / 건축물의 층수 / Double\n",
        "# waterfront / 강변 조망 가능 여부 (0 / 1) / Double\n",
        "# view / 경관 (나쁨에서 좋음으로 0 ~ 4로 표시) / Double\n",
        "# condition / 관리 상태 (나쁨에서 좋음으로 1 ~ 5로 표시) / Double\n",
        "# grade / 등급 (낮음에서 높음으로 1 ~ 13으로 표시) / Double\n",
        "# sqft_above / 지상 면적 / Double\n",
        "# sqft_basement / 지하실 면적 / Double\n",
        "# yr_built / 건축 연도 / Double\n",
        "# yr_renovated / 개축 연도 / Double\n",
        "# zipcode / 우편번호 / Double\n",
        "# sqft_living15 / 15개의 인근 주택의 평균 건물 면적 / Double\n",
        "# sqft_lot15 / 15개의 인근 주택의 평균 대지 면적 / Double\n",
        "# =============================================================================\n",
        "# ============================================================================="
      ]
    },
    {
      "cell_type": "code",
      "source": [
        "import pandas as pd\n",
        "import numpy as np\n",
        "import matplotlib.pyplot as plt\n",
        "import seaborn as sns\n",
        "import warnings\n",
        "\n",
        "warnings.filterwarnings('ignore')\n",
        "%matplotlib inline"
      ],
      "metadata": {
        "id": "7HX5M8kXwOS1"
      },
      "id": "7HX5M8kXwOS1",
      "execution_count": 1,
      "outputs": []
    },
    {
      "cell_type": "code",
      "execution_count": 2,
      "id": "171261af",
      "metadata": {
        "colab": {
          "base_uri": "https://localhost:8080/",
          "height": 226
        },
        "id": "171261af",
        "outputId": "8ca5750d-9db4-4376-8be1-56ddfcbd7c77"
      },
      "outputs": [
        {
          "output_type": "execute_result",
          "data": {
            "text/plain": [
              "           id             date     price  bedrooms  bathrooms  sqft_living  \\\n",
              "0  2597000006  20150309T000000  347500.0         3       1.50         1180   \n",
              "1  8813400345  20150414T000000  575000.0         2       1.00          980   \n",
              "2   226059106  20150102T000000  489500.0         3       1.75         2090   \n",
              "3  8645500270  20141028T000000  246000.0         4       1.75         1720   \n",
              "4  7010700550  20141114T000000  595000.0         3       2.50         2030   \n",
              "\n",
              "   sqft_lot  floors  waterfront  view  condition  grade  sqft_above  \\\n",
              "0      8353     1.0           0     0          3      7        1180   \n",
              "1      3663     1.0           0     0          5      7         980   \n",
              "2     65558     1.0           0     0          3      8        1330   \n",
              "3      7455     1.0           0     0          4      7        1020   \n",
              "4      5100     2.0           0     0          3      7        2030   \n",
              "\n",
              "   sqft_basement  yr_built  yr_renovated  zipcode  sqft_living15  sqft_lot15  \n",
              "0              0      1960             0    98155           1710        8748  \n",
              "1              0      1909             0    98105           1620        3706  \n",
              "2            760      1977             0    98072           2450       47178  \n",
              "3            700      1963             0    98058           1720        7700  \n",
              "4              0      2008             0    98199           1790        4380  "
            ],
            "text/html": [
              "\n",
              "  <div id=\"df-e4bcd5db-be81-4a30-b21e-e18e548d20cd\" class=\"colab-df-container\">\n",
              "    <div>\n",
              "<style scoped>\n",
              "    .dataframe tbody tr th:only-of-type {\n",
              "        vertical-align: middle;\n",
              "    }\n",
              "\n",
              "    .dataframe tbody tr th {\n",
              "        vertical-align: top;\n",
              "    }\n",
              "\n",
              "    .dataframe thead th {\n",
              "        text-align: right;\n",
              "    }\n",
              "</style>\n",
              "<table border=\"1\" class=\"dataframe\">\n",
              "  <thead>\n",
              "    <tr style=\"text-align: right;\">\n",
              "      <th></th>\n",
              "      <th>id</th>\n",
              "      <th>date</th>\n",
              "      <th>price</th>\n",
              "      <th>bedrooms</th>\n",
              "      <th>bathrooms</th>\n",
              "      <th>sqft_living</th>\n",
              "      <th>sqft_lot</th>\n",
              "      <th>floors</th>\n",
              "      <th>waterfront</th>\n",
              "      <th>view</th>\n",
              "      <th>condition</th>\n",
              "      <th>grade</th>\n",
              "      <th>sqft_above</th>\n",
              "      <th>sqft_basement</th>\n",
              "      <th>yr_built</th>\n",
              "      <th>yr_renovated</th>\n",
              "      <th>zipcode</th>\n",
              "      <th>sqft_living15</th>\n",
              "      <th>sqft_lot15</th>\n",
              "    </tr>\n",
              "  </thead>\n",
              "  <tbody>\n",
              "    <tr>\n",
              "      <th>0</th>\n",
              "      <td>2597000006</td>\n",
              "      <td>20150309T000000</td>\n",
              "      <td>347500.0</td>\n",
              "      <td>3</td>\n",
              "      <td>1.50</td>\n",
              "      <td>1180</td>\n",
              "      <td>8353</td>\n",
              "      <td>1.0</td>\n",
              "      <td>0</td>\n",
              "      <td>0</td>\n",
              "      <td>3</td>\n",
              "      <td>7</td>\n",
              "      <td>1180</td>\n",
              "      <td>0</td>\n",
              "      <td>1960</td>\n",
              "      <td>0</td>\n",
              "      <td>98155</td>\n",
              "      <td>1710</td>\n",
              "      <td>8748</td>\n",
              "    </tr>\n",
              "    <tr>\n",
              "      <th>1</th>\n",
              "      <td>8813400345</td>\n",
              "      <td>20150414T000000</td>\n",
              "      <td>575000.0</td>\n",
              "      <td>2</td>\n",
              "      <td>1.00</td>\n",
              "      <td>980</td>\n",
              "      <td>3663</td>\n",
              "      <td>1.0</td>\n",
              "      <td>0</td>\n",
              "      <td>0</td>\n",
              "      <td>5</td>\n",
              "      <td>7</td>\n",
              "      <td>980</td>\n",
              "      <td>0</td>\n",
              "      <td>1909</td>\n",
              "      <td>0</td>\n",
              "      <td>98105</td>\n",
              "      <td>1620</td>\n",
              "      <td>3706</td>\n",
              "    </tr>\n",
              "    <tr>\n",
              "      <th>2</th>\n",
              "      <td>226059106</td>\n",
              "      <td>20150102T000000</td>\n",
              "      <td>489500.0</td>\n",
              "      <td>3</td>\n",
              "      <td>1.75</td>\n",
              "      <td>2090</td>\n",
              "      <td>65558</td>\n",
              "      <td>1.0</td>\n",
              "      <td>0</td>\n",
              "      <td>0</td>\n",
              "      <td>3</td>\n",
              "      <td>8</td>\n",
              "      <td>1330</td>\n",
              "      <td>760</td>\n",
              "      <td>1977</td>\n",
              "      <td>0</td>\n",
              "      <td>98072</td>\n",
              "      <td>2450</td>\n",
              "      <td>47178</td>\n",
              "    </tr>\n",
              "    <tr>\n",
              "      <th>3</th>\n",
              "      <td>8645500270</td>\n",
              "      <td>20141028T000000</td>\n",
              "      <td>246000.0</td>\n",
              "      <td>4</td>\n",
              "      <td>1.75</td>\n",
              "      <td>1720</td>\n",
              "      <td>7455</td>\n",
              "      <td>1.0</td>\n",
              "      <td>0</td>\n",
              "      <td>0</td>\n",
              "      <td>4</td>\n",
              "      <td>7</td>\n",
              "      <td>1020</td>\n",
              "      <td>700</td>\n",
              "      <td>1963</td>\n",
              "      <td>0</td>\n",
              "      <td>98058</td>\n",
              "      <td>1720</td>\n",
              "      <td>7700</td>\n",
              "    </tr>\n",
              "    <tr>\n",
              "      <th>4</th>\n",
              "      <td>7010700550</td>\n",
              "      <td>20141114T000000</td>\n",
              "      <td>595000.0</td>\n",
              "      <td>3</td>\n",
              "      <td>2.50</td>\n",
              "      <td>2030</td>\n",
              "      <td>5100</td>\n",
              "      <td>2.0</td>\n",
              "      <td>0</td>\n",
              "      <td>0</td>\n",
              "      <td>3</td>\n",
              "      <td>7</td>\n",
              "      <td>2030</td>\n",
              "      <td>0</td>\n",
              "      <td>2008</td>\n",
              "      <td>0</td>\n",
              "      <td>98199</td>\n",
              "      <td>1790</td>\n",
              "      <td>4380</td>\n",
              "    </tr>\n",
              "  </tbody>\n",
              "</table>\n",
              "</div>\n",
              "    <div class=\"colab-df-buttons\">\n",
              "\n",
              "  <div class=\"colab-df-container\">\n",
              "    <button class=\"colab-df-convert\" onclick=\"convertToInteractive('df-e4bcd5db-be81-4a30-b21e-e18e548d20cd')\"\n",
              "            title=\"Convert this dataframe to an interactive table.\"\n",
              "            style=\"display:none;\">\n",
              "\n",
              "  <svg xmlns=\"http://www.w3.org/2000/svg\" height=\"24px\" viewBox=\"0 -960 960 960\">\n",
              "    <path d=\"M120-120v-720h720v720H120Zm60-500h600v-160H180v160Zm220 220h160v-160H400v160Zm0 220h160v-160H400v160ZM180-400h160v-160H180v160Zm440 0h160v-160H620v160ZM180-180h160v-160H180v160Zm440 0h160v-160H620v160Z\"/>\n",
              "  </svg>\n",
              "    </button>\n",
              "\n",
              "  <style>\n",
              "    .colab-df-container {\n",
              "      display:flex;\n",
              "      gap: 12px;\n",
              "    }\n",
              "\n",
              "    .colab-df-convert {\n",
              "      background-color: #E8F0FE;\n",
              "      border: none;\n",
              "      border-radius: 50%;\n",
              "      cursor: pointer;\n",
              "      display: none;\n",
              "      fill: #1967D2;\n",
              "      height: 32px;\n",
              "      padding: 0 0 0 0;\n",
              "      width: 32px;\n",
              "    }\n",
              "\n",
              "    .colab-df-convert:hover {\n",
              "      background-color: #E2EBFA;\n",
              "      box-shadow: 0px 1px 2px rgba(60, 64, 67, 0.3), 0px 1px 3px 1px rgba(60, 64, 67, 0.15);\n",
              "      fill: #174EA6;\n",
              "    }\n",
              "\n",
              "    .colab-df-buttons div {\n",
              "      margin-bottom: 4px;\n",
              "    }\n",
              "\n",
              "    [theme=dark] .colab-df-convert {\n",
              "      background-color: #3B4455;\n",
              "      fill: #D2E3FC;\n",
              "    }\n",
              "\n",
              "    [theme=dark] .colab-df-convert:hover {\n",
              "      background-color: #434B5C;\n",
              "      box-shadow: 0px 1px 3px 1px rgba(0, 0, 0, 0.15);\n",
              "      filter: drop-shadow(0px 1px 2px rgba(0, 0, 0, 0.3));\n",
              "      fill: #FFFFFF;\n",
              "    }\n",
              "  </style>\n",
              "\n",
              "    <script>\n",
              "      const buttonEl =\n",
              "        document.querySelector('#df-e4bcd5db-be81-4a30-b21e-e18e548d20cd button.colab-df-convert');\n",
              "      buttonEl.style.display =\n",
              "        google.colab.kernel.accessAllowed ? 'block' : 'none';\n",
              "\n",
              "      async function convertToInteractive(key) {\n",
              "        const element = document.querySelector('#df-e4bcd5db-be81-4a30-b21e-e18e548d20cd');\n",
              "        const dataTable =\n",
              "          await google.colab.kernel.invokeFunction('convertToInteractive',\n",
              "                                                    [key], {});\n",
              "        if (!dataTable) return;\n",
              "\n",
              "        const docLinkHtml = 'Like what you see? Visit the ' +\n",
              "          '<a target=\"_blank\" href=https://colab.research.google.com/notebooks/data_table.ipynb>data table notebook</a>'\n",
              "          + ' to learn more about interactive tables.';\n",
              "        element.innerHTML = '';\n",
              "        dataTable['output_type'] = 'display_data';\n",
              "        await google.colab.output.renderOutput(dataTable, element);\n",
              "        const docLink = document.createElement('div');\n",
              "        docLink.innerHTML = docLinkHtml;\n",
              "        element.appendChild(docLink);\n",
              "      }\n",
              "    </script>\n",
              "  </div>\n",
              "\n",
              "\n",
              "<div id=\"df-fda7a1c3-7eab-40e6-8142-b0a64634d0a5\">\n",
              "  <button class=\"colab-df-quickchart\" onclick=\"quickchart('df-fda7a1c3-7eab-40e6-8142-b0a64634d0a5')\"\n",
              "            title=\"Suggest charts.\"\n",
              "            style=\"display:none;\">\n",
              "\n",
              "<svg xmlns=\"http://www.w3.org/2000/svg\" height=\"24px\"viewBox=\"0 0 24 24\"\n",
              "     width=\"24px\">\n",
              "    <g>\n",
              "        <path d=\"M19 3H5c-1.1 0-2 .9-2 2v14c0 1.1.9 2 2 2h14c1.1 0 2-.9 2-2V5c0-1.1-.9-2-2-2zM9 17H7v-7h2v7zm4 0h-2V7h2v10zm4 0h-2v-4h2v4z\"/>\n",
              "    </g>\n",
              "</svg>\n",
              "  </button>\n",
              "\n",
              "<style>\n",
              "  .colab-df-quickchart {\n",
              "      --bg-color: #E8F0FE;\n",
              "      --fill-color: #1967D2;\n",
              "      --hover-bg-color: #E2EBFA;\n",
              "      --hover-fill-color: #174EA6;\n",
              "      --disabled-fill-color: #AAA;\n",
              "      --disabled-bg-color: #DDD;\n",
              "  }\n",
              "\n",
              "  [theme=dark] .colab-df-quickchart {\n",
              "      --bg-color: #3B4455;\n",
              "      --fill-color: #D2E3FC;\n",
              "      --hover-bg-color: #434B5C;\n",
              "      --hover-fill-color: #FFFFFF;\n",
              "      --disabled-bg-color: #3B4455;\n",
              "      --disabled-fill-color: #666;\n",
              "  }\n",
              "\n",
              "  .colab-df-quickchart {\n",
              "    background-color: var(--bg-color);\n",
              "    border: none;\n",
              "    border-radius: 50%;\n",
              "    cursor: pointer;\n",
              "    display: none;\n",
              "    fill: var(--fill-color);\n",
              "    height: 32px;\n",
              "    padding: 0;\n",
              "    width: 32px;\n",
              "  }\n",
              "\n",
              "  .colab-df-quickchart:hover {\n",
              "    background-color: var(--hover-bg-color);\n",
              "    box-shadow: 0 1px 2px rgba(60, 64, 67, 0.3), 0 1px 3px 1px rgba(60, 64, 67, 0.15);\n",
              "    fill: var(--button-hover-fill-color);\n",
              "  }\n",
              "\n",
              "  .colab-df-quickchart-complete:disabled,\n",
              "  .colab-df-quickchart-complete:disabled:hover {\n",
              "    background-color: var(--disabled-bg-color);\n",
              "    fill: var(--disabled-fill-color);\n",
              "    box-shadow: none;\n",
              "  }\n",
              "\n",
              "  .colab-df-spinner {\n",
              "    border: 2px solid var(--fill-color);\n",
              "    border-color: transparent;\n",
              "    border-bottom-color: var(--fill-color);\n",
              "    animation:\n",
              "      spin 1s steps(1) infinite;\n",
              "  }\n",
              "\n",
              "  @keyframes spin {\n",
              "    0% {\n",
              "      border-color: transparent;\n",
              "      border-bottom-color: var(--fill-color);\n",
              "      border-left-color: var(--fill-color);\n",
              "    }\n",
              "    20% {\n",
              "      border-color: transparent;\n",
              "      border-left-color: var(--fill-color);\n",
              "      border-top-color: var(--fill-color);\n",
              "    }\n",
              "    30% {\n",
              "      border-color: transparent;\n",
              "      border-left-color: var(--fill-color);\n",
              "      border-top-color: var(--fill-color);\n",
              "      border-right-color: var(--fill-color);\n",
              "    }\n",
              "    40% {\n",
              "      border-color: transparent;\n",
              "      border-right-color: var(--fill-color);\n",
              "      border-top-color: var(--fill-color);\n",
              "    }\n",
              "    60% {\n",
              "      border-color: transparent;\n",
              "      border-right-color: var(--fill-color);\n",
              "    }\n",
              "    80% {\n",
              "      border-color: transparent;\n",
              "      border-right-color: var(--fill-color);\n",
              "      border-bottom-color: var(--fill-color);\n",
              "    }\n",
              "    90% {\n",
              "      border-color: transparent;\n",
              "      border-bottom-color: var(--fill-color);\n",
              "    }\n",
              "  }\n",
              "</style>\n",
              "\n",
              "  <script>\n",
              "    async function quickchart(key) {\n",
              "      const quickchartButtonEl =\n",
              "        document.querySelector('#' + key + ' button');\n",
              "      quickchartButtonEl.disabled = true;  // To prevent multiple clicks.\n",
              "      quickchartButtonEl.classList.add('colab-df-spinner');\n",
              "      try {\n",
              "        const charts = await google.colab.kernel.invokeFunction(\n",
              "            'suggestCharts', [key], {});\n",
              "      } catch (error) {\n",
              "        console.error('Error during call to suggestCharts:', error);\n",
              "      }\n",
              "      quickchartButtonEl.classList.remove('colab-df-spinner');\n",
              "      quickchartButtonEl.classList.add('colab-df-quickchart-complete');\n",
              "    }\n",
              "    (() => {\n",
              "      let quickchartButtonEl =\n",
              "        document.querySelector('#df-fda7a1c3-7eab-40e6-8142-b0a64634d0a5 button');\n",
              "      quickchartButtonEl.style.display =\n",
              "        google.colab.kernel.accessAllowed ? 'block' : 'none';\n",
              "    })();\n",
              "  </script>\n",
              "</div>\n",
              "    </div>\n",
              "  </div>\n"
            ]
          },
          "metadata": {},
          "execution_count": 2
        }
      ],
      "source": [
        "data6=pd.read_csv('Dataset_06.csv')\n",
        "data6.head()"
      ]
    },
    {
      "cell_type": "code",
      "execution_count": 3,
      "id": "7bccd5de",
      "metadata": {
        "colab": {
          "base_uri": "https://localhost:8080/"
        },
        "id": "7bccd5de",
        "outputId": "288bc1ed-2982-4dc2-9f9c-6741b92ea644"
      },
      "outputs": [
        {
          "output_type": "stream",
          "name": "stdout",
          "text": [
            "<class 'pandas.core.frame.DataFrame'>\n",
            "RangeIndex: 4323 entries, 0 to 4322\n",
            "Data columns (total 19 columns):\n",
            " #   Column         Non-Null Count  Dtype  \n",
            "---  ------         --------------  -----  \n",
            " 0   id             4323 non-null   int64  \n",
            " 1   date           4323 non-null   object \n",
            " 2   price          4323 non-null   float64\n",
            " 3   bedrooms       4323 non-null   int64  \n",
            " 4   bathrooms      4323 non-null   float64\n",
            " 5   sqft_living    4323 non-null   int64  \n",
            " 6   sqft_lot       4323 non-null   int64  \n",
            " 7   floors         4323 non-null   float64\n",
            " 8   waterfront     4323 non-null   int64  \n",
            " 9   view           4323 non-null   int64  \n",
            " 10  condition      4323 non-null   int64  \n",
            " 11  grade          4323 non-null   int64  \n",
            " 12  sqft_above     4323 non-null   int64  \n",
            " 13  sqft_basement  4323 non-null   int64  \n",
            " 14  yr_built       4323 non-null   int64  \n",
            " 15  yr_renovated   4323 non-null   int64  \n",
            " 16  zipcode        4323 non-null   int64  \n",
            " 17  sqft_living15  4323 non-null   int64  \n",
            " 18  sqft_lot15     4323 non-null   int64  \n",
            "dtypes: float64(3), int64(15), object(1)\n",
            "memory usage: 641.8+ KB\n"
          ]
        }
      ],
      "source": [
        "data6.info()"
      ]
    },
    {
      "cell_type": "code",
      "execution_count": null,
      "id": "30e21033",
      "metadata": {
        "id": "30e21033"
      },
      "outputs": [],
      "source": [
        "# =============================================================================\n",
        "# 1.강변 조망이 가능한지 여부(waterfront)에 따라 평균 주택 가격을 계산하고 조망이\n",
        "# 가능한 경우와 그렇지 않은 경우의 평균 가격 차이의 절대값을 구하시오. 답은\n",
        "# 소수점 이하는 버리고 정수부만 기술하시오. (답안 예시) 1234567\n",
        "# ============================================================================="
      ]
    },
    {
      "cell_type": "code",
      "execution_count": 4,
      "id": "4c172774",
      "metadata": {
        "colab": {
          "base_uri": "https://localhost:8080/"
        },
        "id": "4c172774",
        "outputId": "e87f2e1b-38bd-418e-c8cf-85f40cf2c4b6"
      },
      "outputs": [
        {
          "output_type": "execute_result",
          "data": {
            "text/plain": [
              "1167272"
            ]
          },
          "metadata": {},
          "execution_count": 4
        }
      ],
      "source": [
        "question6_1_1=data6[data6.waterfront == 1]['price'].mean()\n",
        "question6_1_0=data6[data6.waterfront == 0]['price'].mean()\n",
        "\n",
        "int(abs(question6_1_1-question6_1_0))  #즉 강변부가 보이는곳이 안보이는 곳보다 값이 비싸다"
      ]
    },
    {
      "cell_type": "code",
      "execution_count": 5,
      "id": "9f58bf2e",
      "metadata": {
        "colab": {
          "base_uri": "https://localhost:8080/"
        },
        "id": "9f58bf2e",
        "outputId": "90276e14-743f-4f26-a30d-e71c4c573057"
      },
      "outputs": [
        {
          "output_type": "execute_result",
          "data": {
            "text/plain": [
              "0    4290\n",
              "1      33\n",
              "Name: waterfront, dtype: int64"
            ]
          },
          "metadata": {},
          "execution_count": 5
        }
      ],
      "source": [
        "data6.waterfront.value_counts()"
      ]
    },
    {
      "cell_type": "code",
      "source": [
        "plt.scatter(x=data6.sqft_living,y=data6.price,c=data6.waterfront+1)"
      ],
      "metadata": {
        "colab": {
          "base_uri": "https://localhost:8080/",
          "height": 463
        },
        "id": "LQIvJanO0U0p",
        "outputId": "f47be98b-3dd0-4cfa-f1c4-e9f29f97adac"
      },
      "id": "LQIvJanO0U0p",
      "execution_count": 6,
      "outputs": [
        {
          "output_type": "execute_result",
          "data": {
            "text/plain": [
              "<matplotlib.collections.PathCollection at 0x7df2d77c7ee0>"
            ]
          },
          "metadata": {},
          "execution_count": 6
        },
        {
          "output_type": "display_data",
          "data": {
            "text/plain": [
              "<Figure size 640x480 with 1 Axes>"
            ],
            "image/png": "[encoded data removed]"
          },
          "metadata": {}
        }
      ]
    },
    {
      "cell_type": "code",
      "execution_count": null,
      "id": "3c23f02d",
      "metadata": {
        "id": "3c23f02d"
      },
      "outputs": [],
      "source": [
        "# =============================================================================\n",
        "# 2.price, bedrooms, bathrooms, sqft_living, sqft_lot, floors, yr_built 등 7개의 변수 간의\n",
        "# 상관분석을 수행하고 price와의 상관계수의 절대값이 가장 큰 변수와 가장 작은\n",
        "# 변수를 차례로 기술하시오. (답안 예시) view, zipcode\n",
        "#\n",
        "# ============================================================================="
      ]
    },
    {
      "cell_type": "code",
      "source": [
        "q6_2_var_list=['price', 'bedrooms', 'bathrooms', 'sqft_living', 'sqft_lot', 'floors', 'yr_built']"
      ],
      "metadata": {
        "id": "Qfs3f3171QN9"
      },
      "id": "Qfs3f3171QN9",
      "execution_count": 7,
      "outputs": []
    },
    {
      "cell_type": "code",
      "execution_count": 8,
      "id": "b731237e",
      "metadata": {
        "colab": {
          "base_uri": "https://localhost:8080/",
          "height": 269
        },
        "id": "b731237e",
        "outputId": "c9e52e14-ae9f-47d1-cc3b-a7767b9cc0ec"
      },
      "outputs": [
        {
          "output_type": "execute_result",
          "data": {
            "text/plain": [
              "                price  bedrooms  bathrooms  sqft_living  sqft_lot    floors  \\\n",
              "price        1.000000  0.279824   0.534277     0.709157  0.106341  0.270423   \n",
              "bedrooms     0.279824  1.000000   0.468611     0.517502  0.017658  0.151279   \n",
              "bathrooms    0.534277  0.468611   1.000000     0.751835  0.105676  0.495845   \n",
              "sqft_living  0.709157  0.517502   0.751835     1.000000  0.180408  0.368670   \n",
              "sqft_lot     0.106341  0.017658   0.105676     0.180408  1.000000  0.032762   \n",
              "floors       0.270423  0.151279   0.495845     0.368670  0.032762  1.000000   \n",
              "yr_built     0.059895  0.137440   0.509019     0.323522  0.062490  0.505070   \n",
              "\n",
              "             yr_built  \n",
              "price        0.059895  \n",
              "bedrooms     0.137440  \n",
              "bathrooms    0.509019  \n",
              "sqft_living  0.323522  \n",
              "sqft_lot     0.062490  \n",
              "floors       0.505070  \n",
              "yr_built     1.000000  "
            ],
            "text/html": [
              "\n",
              "  <div id=\"df-90104a91-1fd7-4378-b719-8d2d018b12e0\" class=\"colab-df-container\">\n",
              "    <div>\n",
              "<style scoped>\n",
              "    .dataframe tbody tr th:only-of-type {\n",
              "        vertical-align: middle;\n",
              "    }\n",
              "\n",
              "    .dataframe tbody tr th {\n",
              "        vertical-align: top;\n",
              "    }\n",
              "\n",
              "    .dataframe thead th {\n",
              "        text-align: right;\n",
              "    }\n",
              "</style>\n",
              "<table border=\"1\" class=\"dataframe\">\n",
              "  <thead>\n",
              "    <tr style=\"text-align: right;\">\n",
              "      <th></th>\n",
              "      <th>price</th>\n",
              "      <th>bedrooms</th>\n",
              "      <th>bathrooms</th>\n",
              "      <th>sqft_living</th>\n",
              "      <th>sqft_lot</th>\n",
              "      <th>floors</th>\n",
              "      <th>yr_built</th>\n",
              "    </tr>\n",
              "  </thead>\n",
              "  <tbody>\n",
              "    <tr>\n",
              "      <th>price</th>\n",
              "      <td>1.000000</td>\n",
              "      <td>0.279824</td>\n",
              "      <td>0.534277</td>\n",
              "      <td>0.709157</td>\n",
              "      <td>0.106341</td>\n",
              "      <td>0.270423</td>\n",
              "      <td>0.059895</td>\n",
              "    </tr>\n",
              "    <tr>\n",
              "      <th>bedrooms</th>\n",
              "      <td>0.279824</td>\n",
              "      <td>1.000000</td>\n",
              "      <td>0.468611</td>\n",
              "      <td>0.517502</td>\n",
              "      <td>0.017658</td>\n",
              "      <td>0.151279</td>\n",
              "      <td>0.137440</td>\n",
              "    </tr>\n",
              "    <tr>\n",
              "      <th>bathrooms</th>\n",
              "      <td>0.534277</td>\n",
              "      <td>0.468611</td>\n",
              "      <td>1.000000</td>\n",
              "      <td>0.751835</td>\n",
              "      <td>0.105676</td>\n",
              "      <td>0.495845</td>\n",
              "      <td>0.509019</td>\n",
              "    </tr>\n",
              "    <tr>\n",
              "      <th>sqft_living</th>\n",
              "      <td>0.709157</td>\n",
              "      <td>0.517502</td>\n",
              "      <td>0.751835</td>\n",
              "      <td>1.000000</td>\n",
              "      <td>0.180408</td>\n",
              "      <td>0.368670</td>\n",
              "      <td>0.323522</td>\n",
              "    </tr>\n",
              "    <tr>\n",
              "      <th>sqft_lot</th>\n",
              "      <td>0.106341</td>\n",
              "      <td>0.017658</td>\n",
              "      <td>0.105676</td>\n",
              "      <td>0.180408</td>\n",
              "      <td>1.000000</td>\n",
              "      <td>0.032762</td>\n",
              "      <td>0.062490</td>\n",
              "    </tr>\n",
              "    <tr>\n",
              "      <th>floors</th>\n",
              "      <td>0.270423</td>\n",
              "      <td>0.151279</td>\n",
              "      <td>0.495845</td>\n",
              "      <td>0.368670</td>\n",
              "      <td>0.032762</td>\n",
              "      <td>1.000000</td>\n",
              "      <td>0.505070</td>\n",
              "    </tr>\n",
              "    <tr>\n",
              "      <th>yr_built</th>\n",
              "      <td>0.059895</td>\n",
              "      <td>0.137440</td>\n",
              "      <td>0.509019</td>\n",
              "      <td>0.323522</td>\n",
              "      <td>0.062490</td>\n",
              "      <td>0.505070</td>\n",
              "      <td>1.000000</td>\n",
              "    </tr>\n",
              "  </tbody>\n",
              "</table>\n",
              "</div>\n",
              "    <div class=\"colab-df-buttons\">\n",
              "\n",
              "  <div class=\"colab-df-container\">\n",
              "    <button class=\"colab-df-convert\" onclick=\"convertToInteractive('df-90104a91-1fd7-4378-b719-8d2d018b12e0')\"\n",
              "            title=\"Convert this dataframe to an interactive table.\"\n",
              "            style=\"display:none;\">\n",
              "\n",
              "  <svg xmlns=\"http://www.w3.org/2000/svg\" height=\"24px\" viewBox=\"0 -960 960 960\">\n",
              "    <path d=\"M120-120v-720h720v720H120Zm60-500h600v-160H180v160Zm220 220h160v-160H400v160Zm0 220h160v-160H400v160ZM180-400h160v-160H180v160Zm440 0h160v-160H620v160ZM180-180h160v-160H180v160Zm440 0h160v-160H620v160Z\"/>\n",
              "  </svg>\n",
              "    </button>\n",
              "\n",
              "  <style>\n",
              "    .colab-df-container {\n",
              "      display:flex;\n",
              "      gap: 12px;\n",
              "    }\n",
              "\n",
              "    .colab-df-convert {\n",
              "      background-color: #E8F0FE;\n",
              "      border: none;\n",
              "      border-radius: 50%;\n",
              "      cursor: pointer;\n",
              "      display: none;\n",
              "      fill: #1967D2;\n",
              "      height: 32px;\n",
              "      padding: 0 0 0 0;\n",
              "      width: 32px;\n",
              "    }\n",
              "\n",
              "    .colab-df-convert:hover {\n",
              "      background-color: #E2EBFA;\n",
              "      box-shadow: 0px 1px 2px rgba(60, 64, 67, 0.3), 0px 1px 3px 1px rgba(60, 64, 67, 0.15);\n",
              "      fill: #174EA6;\n",
              "    }\n",
              "\n",
              "    .colab-df-buttons div {\n",
              "      margin-bottom: 4px;\n",
              "    }\n",
              "\n",
              "    [theme=dark] .colab-df-convert {\n",
              "      background-color: #3B4455;\n",
              "      fill: #D2E3FC;\n",
              "    }\n",
              "\n",
              "    [theme=dark] .colab-df-convert:hover {\n",
              "      background-color: #434B5C;\n",
              "      box-shadow: 0px 1px 3px 1px rgba(0, 0, 0, 0.15);\n",
              "      filter: drop-shadow(0px 1px 2px rgba(0, 0, 0, 0.3));\n",
              "      fill: #FFFFFF;\n",
              "    }\n",
              "  </style>\n",
              "\n",
              "    <script>\n",
              "      const buttonEl =\n",
              "        document.querySelector('#df-90104a91-1fd7-4378-b719-8d2d018b12e0 button.colab-df-convert');\n",
              "      buttonEl.style.display =\n",
              "        google.colab.kernel.accessAllowed ? 'block' : 'none';\n",
              "\n",
              "      async function convertToInteractive(key) {\n",
              "        const element = document.querySelector('#df-90104a91-1fd7-4378-b719-8d2d018b12e0');\n",
              "        const dataTable =\n",
              "          await google.colab.kernel.invokeFunction('convertToInteractive',\n",
              "                                                    [key], {});\n",
              "        if (!dataTable) return;\n",
              "\n",
              "        const docLinkHtml = 'Like what you see? Visit the ' +\n",
              "          '<a target=\"_blank\" href=https://colab.research.google.com/notebooks/data_table.ipynb>data table notebook</a>'\n",
              "          + ' to learn more about interactive tables.';\n",
              "        element.innerHTML = '';\n",
              "        dataTable['output_type'] = 'display_data';\n",
              "        await google.colab.output.renderOutput(dataTable, element);\n",
              "        const docLink = document.createElement('div');\n",
              "        docLink.innerHTML = docLinkHtml;\n",
              "        element.appendChild(docLink);\n",
              "      }\n",
              "    </script>\n",
              "  </div>\n",
              "\n",
              "\n",
              "<div id=\"df-131e671e-d036-4c58-9dfb-98d55324160a\">\n",
              "  <button class=\"colab-df-quickchart\" onclick=\"quickchart('df-131e671e-d036-4c58-9dfb-98d55324160a')\"\n",
              "            title=\"Suggest charts.\"\n",
              "            style=\"display:none;\">\n",
              "\n",
              "<svg xmlns=\"http://www.w3.org/2000/svg\" height=\"24px\"viewBox=\"0 0 24 24\"\n",
              "     width=\"24px\">\n",
              "    <g>\n",
              "        <path d=\"M19 3H5c-1.1 0-2 .9-2 2v14c0 1.1.9 2 2 2h14c1.1 0 2-.9 2-2V5c0-1.1-.9-2-2-2zM9 17H7v-7h2v7zm4 0h-2V7h2v10zm4 0h-2v-4h2v4z\"/>\n",
              "    </g>\n",
              "</svg>\n",
              "  </button>\n",
              "\n",
              "<style>\n",
              "  .colab-df-quickchart {\n",
              "      --bg-color: #E8F0FE;\n",
              "      --fill-color: #1967D2;\n",
              "      --hover-bg-color: #E2EBFA;\n",
              "      --hover-fill-color: #174EA6;\n",
              "      --disabled-fill-color: #AAA;\n",
              "      --disabled-bg-color: #DDD;\n",
              "  }\n",
              "\n",
              "  [theme=dark] .colab-df-quickchart {\n",
              "      --bg-color: #3B4455;\n",
              "      --fill-color: #D2E3FC;\n",
              "      --hover-bg-color: #434B5C;\n",
              "      --hover-fill-color: #FFFFFF;\n",
              "      --disabled-bg-color: #3B4455;\n",
              "      --disabled-fill-color: #666;\n",
              "  }\n",
              "\n",
              "  .colab-df-quickchart {\n",
              "    background-color: var(--bg-color);\n",
              "    border: none;\n",
              "    border-radius: 50%;\n",
              "    cursor: pointer;\n",
              "    display: none;\n",
              "    fill: var(--fill-color);\n",
              "    height: 32px;\n",
              "    padding: 0;\n",
              "    width: 32px;\n",
              "  }\n",
              "\n",
              "  .colab-df-quickchart:hover {\n",
              "    background-color: var(--hover-bg-color);\n",
              "    box-shadow: 0 1px 2px rgba(60, 64, 67, 0.3), 0 1px 3px 1px rgba(60, 64, 67, 0.15);\n",
              "    fill: var(--button-hover-fill-color);\n",
              "  }\n",
              "\n",
              "  .colab-df-quickchart-complete:disabled,\n",
              "  .colab-df-quickchart-complete:disabled:hover {\n",
              "    background-color: var(--disabled-bg-color);\n",
              "    fill: var(--disabled-fill-color);\n",
              "    box-shadow: none;\n",
              "  }\n",
              "\n",
              "  .colab-df-spinner {\n",
              "    border: 2px solid var(--fill-color);\n",
              "    border-color: transparent;\n",
              "    border-bottom-color: var(--fill-color);\n",
              "    animation:\n",
              "      spin 1s steps(1) infinite;\n",
              "  }\n",
              "\n",
              "  @keyframes spin {\n",
              "    0% {\n",
              "      border-color: transparent;\n",
              "      border-bottom-color: var(--fill-color);\n",
              "      border-left-color: var(--fill-color);\n",
              "    }\n",
              "    20% {\n",
              "      border-color: transparent;\n",
              "      border-left-color: var(--fill-color);\n",
              "      border-top-color: var(--fill-color);\n",
              "    }\n",
              "    30% {\n",
              "      border-color: transparent;\n",
              "      border-left-color: var(--fill-color);\n",
              "      border-top-color: var(--fill-color);\n",
              "      border-right-color: var(--fill-color);\n",
              "    }\n",
              "    40% {\n",
              "      border-color: transparent;\n",
              "      border-right-color: var(--fill-color);\n",
              "      border-top-color: var(--fill-color);\n",
              "    }\n",
              "    60% {\n",
              "      border-color: transparent;\n",
              "      border-right-color: var(--fill-color);\n",
              "    }\n",
              "    80% {\n",
              "      border-color: transparent;\n",
              "      border-right-color: var(--fill-color);\n",
              "      border-bottom-color: var(--fill-color);\n",
              "    }\n",
              "    90% {\n",
              "      border-color: transparent;\n",
              "      border-bottom-color: var(--fill-color);\n",
              "    }\n",
              "  }\n",
              "</style>\n",
              "\n",
              "  <script>\n",
              "    async function quickchart(key) {\n",
              "      const quickchartButtonEl =\n",
              "        document.querySelector('#' + key + ' button');\n",
              "      quickchartButtonEl.disabled = true;  // To prevent multiple clicks.\n",
              "      quickchartButtonEl.classList.add('colab-df-spinner');\n",
              "      try {\n",
              "        const charts = await google.colab.kernel.invokeFunction(\n",
              "            'suggestCharts', [key], {});\n",
              "      } catch (error) {\n",
              "        console.error('Error during call to suggestCharts:', error);\n",
              "      }\n",
              "      quickchartButtonEl.classList.remove('colab-df-spinner');\n",
              "      quickchartButtonEl.classList.add('colab-df-quickchart-complete');\n",
              "    }\n",
              "    (() => {\n",
              "      let quickchartButtonEl =\n",
              "        document.querySelector('#df-131e671e-d036-4c58-9dfb-98d55324160a button');\n",
              "      quickchartButtonEl.style.display =\n",
              "        google.colab.kernel.accessAllowed ? 'block' : 'none';\n",
              "    })();\n",
              "  </script>\n",
              "</div>\n",
              "    </div>\n",
              "  </div>\n"
            ]
          },
          "metadata": {},
          "execution_count": 8
        }
      ],
      "source": [
        "data6[q6_2_var_list].corr()"
      ]
    },
    {
      "cell_type": "code",
      "execution_count": 9,
      "id": "19164934",
      "metadata": {
        "colab": {
          "base_uri": "https://localhost:8080/"
        },
        "id": "19164934",
        "outputId": "ce23dd13-9a92-400c-e409-ae64755c0930"
      },
      "outputs": [
        {
          "output_type": "execute_result",
          "data": {
            "text/plain": [
              "bedrooms       0.279824\n",
              "bathrooms      0.534277\n",
              "sqft_living    0.709157\n",
              "sqft_lot       0.106341\n",
              "floors         0.270423\n",
              "yr_built       0.059895\n",
              "Name: price, dtype: float64"
            ]
          },
          "metadata": {},
          "execution_count": 9
        }
      ],
      "source": [
        "q6_2=data6[q6_2_var_list].corr()['price'].drop('price').abs()\n",
        "q6_2"
      ]
    },
    {
      "cell_type": "code",
      "source": [
        "q6_2.idxmax(),q6_2.idxmin() #상관성 높은 부분 걸러내기 위함"
      ],
      "metadata": {
        "colab": {
          "base_uri": "https://localhost:8080/"
        },
        "id": "yjTOSRRK1_Gt",
        "outputId": "c4a03f82-4ba4-4a6c-fb2e-643e8dedd125"
      },
      "id": "yjTOSRRK1_Gt",
      "execution_count": 10,
      "outputs": [
        {
          "output_type": "execute_result",
          "data": {
            "text/plain": [
              "('sqft_living', 'yr_built')"
            ]
          },
          "metadata": {},
          "execution_count": 10
        }
      ]
    },
    {
      "cell_type": "code",
      "execution_count": null,
      "id": "0c4bb7e4",
      "metadata": {
        "id": "0c4bb7e4"
      },
      "outputs": [],
      "source": [
        "# =============================================================================\n",
        "# 3. id, date, 그리고 zipcode를 제외한 모든 변수를 독립변수로, price를 종속변수로 하여\n",
        "# 회귀분석을 수행하시오. 통계적 유의성을 갖지 못하는 독립변수를 제거하면 회귀\n",
        "# 모형에 남는 변수는 모두\n",
        "# 몇 개인가? 이 때 음의 회귀계수를 가지는 변수는 몇 개인가? (답안 예시) 5, 3\n",
        "# =============================================================================\n",
        "\n",
        "# =============================================================================\n",
        "# (참고)\n",
        "# import pandas as pd\n",
        "# import numpy as np\n",
        "# from sklearn.linear_model import LinearRegression\n",
        "# from statsmodels.formula.api import ols\n",
        "# ============================================================================="
      ]
    },
    {
      "cell_type": "code",
      "execution_count": 12,
      "id": "c61a2f9e",
      "metadata": {
        "colab": {
          "base_uri": "https://localhost:8080/"
        },
        "id": "c61a2f9e",
        "outputId": "0f3ebf83-aa7c-4ab0-fad9-19607c992443"
      },
      "outputs": [
        {
          "output_type": "execute_result",
          "data": {
            "text/plain": [
              "Index(['bedrooms', 'bathrooms', 'sqft_living', 'sqft_lot', 'floors',\n",
              "       'waterfront', 'view', 'condition', 'grade', 'sqft_above',\n",
              "       'sqft_basement', 'yr_built', 'yr_renovated', 'sqft_living15',\n",
              "       'sqft_lot15'],\n",
              "      dtype='object')"
            ]
          },
          "metadata": {},
          "execution_count": 12
        }
      ],
      "source": [
        "q6_3_var_list=data6.columns.drop(['id','date','zipcode','price'])\n",
        "q6_3_var_list"
      ]
    },
    {
      "cell_type": "code",
      "execution_count": 13,
      "id": "688d0b98",
      "metadata": {
        "id": "688d0b98"
      },
      "outputs": [],
      "source": [
        "from statsmodels.formula.api import ols"
      ]
    },
    {
      "cell_type": "code",
      "source": [
        "#lm2=ols('식',data).fit\n",
        "\n",
        "#-식: 'y~x1+x2+x3-1'\n",
        "#-1: 상수항 미포함\n",
        "#문자열 변수들은 자동으로 더미 변수로 변"
      ],
      "metadata": {
        "id": "MftCG2vf6bZN"
      },
      "id": "MftCG2vf6bZN",
      "execution_count": null,
      "outputs": []
    },
    {
      "cell_type": "code",
      "source": [
        "'price~'+'x1+x2'"
      ],
      "metadata": {
        "colab": {
          "base_uri": "https://localhost:8080/",
          "height": 35
        },
        "id": "MCgbReOd9n7G",
        "outputId": "5fa2d85f-70c6-4376-d0e4-f7eed403c665"
      },
      "id": "MCgbReOd9n7G",
      "execution_count": 14,
      "outputs": [
        {
          "output_type": "execute_result",
          "data": {
            "text/plain": [
              "'price~x1+x2'"
            ],
            "application/vnd.google.colaboratory.intrinsic+json": {
              "type": "string"
            }
          },
          "metadata": {},
          "execution_count": 14
        }
      ]
    },
    {
      "cell_type": "code",
      "source": [
        "'+'.join(q6_3_var_list)"
      ],
      "metadata": {
        "colab": {
          "base_uri": "https://localhost:8080/",
          "height": 54
        },
        "id": "H0VNua_-9v92",
        "outputId": "f5da1d61-e697-4d26-b728-9f826c15cbc3"
      },
      "id": "H0VNua_-9v92",
      "execution_count": 15,
      "outputs": [
        {
          "output_type": "execute_result",
          "data": {
            "text/plain": [
              "'bedrooms+bathrooms+sqft_living+sqft_lot+floors+waterfront+view+condition+grade+sqft_above+sqft_basement+yr_built+yr_renovated+sqft_living15+sqft_lot15'"
            ],
            "application/vnd.google.colaboratory.intrinsic+json": {
              "type": "string"
            }
          },
          "metadata": {},
          "execution_count": 15
        }
      ]
    },
    {
      "cell_type": "code",
      "source": [
        "'price~' +  '+'.join(q6_3_var_list)"
      ],
      "metadata": {
        "colab": {
          "base_uri": "https://localhost:8080/",
          "height": 54
        },
        "id": "R1f2HnEr9xnT",
        "outputId": "965e10d3-f05c-443c-d2c5-da62bd1a5889"
      },
      "id": "R1f2HnEr9xnT",
      "execution_count": 16,
      "outputs": [
        {
          "output_type": "execute_result",
          "data": {
            "text/plain": [
              "'price~bedrooms+bathrooms+sqft_living+sqft_lot+floors+waterfront+view+condition+grade+sqft_above+sqft_basement+yr_built+yr_renovated+sqft_living15+sqft_lot15'"
            ],
            "application/vnd.google.colaboratory.intrinsic+json": {
              "type": "string"
            }
          },
          "metadata": {},
          "execution_count": 16
        }
      ]
    },
    {
      "cell_type": "code",
      "source": [
        "form1='price~' +  '+'.join(q6_3_var_list)\n",
        "form1"
      ],
      "metadata": {
        "colab": {
          "base_uri": "https://localhost:8080/",
          "height": 54
        },
        "id": "brT8LORc93xY",
        "outputId": "b29f6269-33f7-4044-e981-47a4d8936478"
      },
      "id": "brT8LORc93xY",
      "execution_count": 17,
      "outputs": [
        {
          "output_type": "execute_result",
          "data": {
            "text/plain": [
              "'price~bedrooms+bathrooms+sqft_living+sqft_lot+floors+waterfront+view+condition+grade+sqft_above+sqft_basement+yr_built+yr_renovated+sqft_living15+sqft_lot15'"
            ],
            "application/vnd.google.colaboratory.intrinsic+json": {
              "type": "string"
            }
          },
          "metadata": {},
          "execution_count": 17
        }
      ]
    },
    {
      "cell_type": "code",
      "source": [
        "lm2=ols(form1,data6).fit()"
      ],
      "metadata": {
        "id": "58nwPUO7-NVs"
      },
      "id": "58nwPUO7-NVs",
      "execution_count": 18,
      "outputs": []
    },
    {
      "cell_type": "code",
      "source": [
        "lm2.summary()"
      ],
      "metadata": {
        "colab": {
          "base_uri": "https://localhost:8080/",
          "height": 772
        },
        "id": "uRGDJMUi-fDq",
        "outputId": "2a57c93b-fee1-43b4-f60d-14752b0e05bb"
      },
      "id": "uRGDJMUi-fDq",
      "execution_count": 19,
      "outputs": [
        {
          "output_type": "execute_result",
          "data": {
            "text/plain": [
              "<class 'statsmodels.iolib.summary.Summary'>\n",
              "\"\"\"\n",
              "                            OLS Regression Results                            \n",
              "==============================================================================\n",
              "Dep. Variable:                  price   R-squared:                       0.681\n",
              "Model:                            OLS   Adj. R-squared:                  0.680\n",
              "Method:                 Least Squares   F-statistic:                     656.0\n",
              "Date:                Wed, 01 Nov 2023   Prob (F-statistic):               0.00\n",
              "Time:                        08:22:27   Log-Likelihood:                -58960.\n",
              "No. Observations:                4323   AIC:                         1.180e+05\n",
              "Df Residuals:                    4308   BIC:                         1.180e+05\n",
              "Df Model:                          14                                         \n",
              "Covariance Type:            nonrobust                                         \n",
              "=================================================================================\n",
              "                    coef    std err          t      P>|t|      [0.025      0.975]\n",
              "---------------------------------------------------------------------------------\n",
              "Intercept      6.302e+06   2.95e+05     21.401      0.000    5.73e+06    6.88e+06\n",
              "bedrooms        -2.5e+04   3680.510     -6.791      0.000   -3.22e+04   -1.78e+04\n",
              "bathrooms      5.179e+04   7163.408      7.230      0.000    3.77e+04    6.58e+04\n",
              "sqft_living      92.3080      5.074     18.192      0.000      82.360     102.256\n",
              "sqft_lot          0.0054      0.093      0.059      0.953      -0.176       0.187\n",
              "floors         3.748e+04   8141.392      4.604      0.000    2.15e+04    5.34e+04\n",
              "waterfront     6.277e+05   3.91e+04     16.064      0.000    5.51e+05    7.04e+05\n",
              "view            4.04e+04   4797.344      8.421      0.000     3.1e+04    4.98e+04\n",
              "condition      1.571e+04   5317.387      2.954      0.003    5280.918    2.61e+04\n",
              "grade          1.306e+05   4700.604     27.789      0.000    1.21e+05     1.4e+05\n",
              "sqft_above       33.7358      4.981      6.773      0.000      23.971      43.501\n",
              "sqft_basement    58.5723      5.840     10.030      0.000      47.123      70.021\n",
              "yr_built      -3666.8957    150.805    -24.316      0.000   -3962.551   -3371.241\n",
              "yr_renovated     17.7032      8.265      2.142      0.032       1.499      33.908\n",
              "sqft_living15    23.0114      7.561      3.044      0.002       8.188      37.834\n",
              "sqft_lot15       -0.2323      0.142     -1.637      0.102      -0.511       0.046\n",
              "==============================================================================\n",
              "Omnibus:                     2170.721   Durbin-Watson:                   2.011\n",
              "Prob(Omnibus):                  0.000   Jarque-Bera (JB):            38362.875\n",
              "Skew:                           1.971   Prob(JB):                         0.00\n",
              "Kurtosis:                      17.051   Cond. No.                     1.94e+17\n",
              "==============================================================================\n",
              "\n",
              "Notes:\n",
              "[1] Standard Errors assume that the covariance matrix of the errors is correctly specified.\n",
              "[2] The smallest eigenvalue is 4.29e-22. This might indicate that there are\n",
              "strong multicollinearity problems or that the design matrix is singular.\n",
              "\"\"\""
            ],
            "text/html": [
              "<table class=\"simpletable\">\n",
              "<caption>OLS Regression Results</caption>\n",
              "<tr>\n",
              "  <th>Dep. Variable:</th>          <td>price</td>      <th>  R-squared:         </th> <td>   0.681</td> \n",
              "</tr>\n",
              "<tr>\n",
              "  <th>Model:</th>                   <td>OLS</td>       <th>  Adj. R-squared:    </th> <td>   0.680</td> \n",
              "</tr>\n",
              "<tr>\n",
              "  <th>Method:</th>             <td>Least Squares</td>  <th>  F-statistic:       </th> <td>   656.0</td> \n",
              "</tr>\n",
              "<tr>\n",
              "  <th>Date:</th>             <td>Wed, 01 Nov 2023</td> <th>  Prob (F-statistic):</th>  <td>  0.00</td>  \n",
              "</tr>\n",
              "<tr>\n",
              "  <th>Time:</th>                 <td>08:22:27</td>     <th>  Log-Likelihood:    </th> <td> -58960.</td> \n",
              "</tr>\n",
              "<tr>\n",
              "  <th>No. Observations:</th>      <td>  4323</td>      <th>  AIC:               </th> <td>1.180e+05</td>\n",
              "</tr>\n",
              "<tr>\n",
              "  <th>Df Residuals:</th>          <td>  4308</td>      <th>  BIC:               </th> <td>1.180e+05</td>\n",
              "</tr>\n",
              "<tr>\n",
              "  <th>Df Model:</th>              <td>    14</td>      <th>                     </th>     <td> </td>    \n",
              "</tr>\n",
              "<tr>\n",
              "  <th>Covariance Type:</th>      <td>nonrobust</td>    <th>                     </th>     <td> </td>    \n",
              "</tr>\n",
              "</table>\n",
              "<table class=\"simpletable\">\n",
              "<tr>\n",
              "        <td></td>           <th>coef</th>     <th>std err</th>      <th>t</th>      <th>P>|t|</th>  <th>[0.025</th>    <th>0.975]</th>  \n",
              "</tr>\n",
              "<tr>\n",
              "  <th>Intercept</th>     <td> 6.302e+06</td> <td> 2.95e+05</td> <td>   21.401</td> <td> 0.000</td> <td> 5.73e+06</td> <td> 6.88e+06</td>\n",
              "</tr>\n",
              "<tr>\n",
              "  <th>bedrooms</th>      <td>  -2.5e+04</td> <td> 3680.510</td> <td>   -6.791</td> <td> 0.000</td> <td>-3.22e+04</td> <td>-1.78e+04</td>\n",
              "</tr>\n",
              "<tr>\n",
              "  <th>bathrooms</th>     <td> 5.179e+04</td> <td> 7163.408</td> <td>    7.230</td> <td> 0.000</td> <td> 3.77e+04</td> <td> 6.58e+04</td>\n",
              "</tr>\n",
              "<tr>\n",
              "  <th>sqft_living</th>   <td>   92.3080</td> <td>    5.074</td> <td>   18.192</td> <td> 0.000</td> <td>   82.360</td> <td>  102.256</td>\n",
              "</tr>\n",
              "<tr>\n",
              "  <th>sqft_lot</th>      <td>    0.0054</td> <td>    0.093</td> <td>    0.059</td> <td> 0.953</td> <td>   -0.176</td> <td>    0.187</td>\n",
              "</tr>\n",
              "<tr>\n",
              "  <th>floors</th>        <td> 3.748e+04</td> <td> 8141.392</td> <td>    4.604</td> <td> 0.000</td> <td> 2.15e+04</td> <td> 5.34e+04</td>\n",
              "</tr>\n",
              "<tr>\n",
              "  <th>waterfront</th>    <td> 6.277e+05</td> <td> 3.91e+04</td> <td>   16.064</td> <td> 0.000</td> <td> 5.51e+05</td> <td> 7.04e+05</td>\n",
              "</tr>\n",
              "<tr>\n",
              "  <th>view</th>          <td>  4.04e+04</td> <td> 4797.344</td> <td>    8.421</td> <td> 0.000</td> <td>  3.1e+04</td> <td> 4.98e+04</td>\n",
              "</tr>\n",
              "<tr>\n",
              "  <th>condition</th>     <td> 1.571e+04</td> <td> 5317.387</td> <td>    2.954</td> <td> 0.003</td> <td> 5280.918</td> <td> 2.61e+04</td>\n",
              "</tr>\n",
              "<tr>\n",
              "  <th>grade</th>         <td> 1.306e+05</td> <td> 4700.604</td> <td>   27.789</td> <td> 0.000</td> <td> 1.21e+05</td> <td>  1.4e+05</td>\n",
              "</tr>\n",
              "<tr>\n",
              "  <th>sqft_above</th>    <td>   33.7358</td> <td>    4.981</td> <td>    6.773</td> <td> 0.000</td> <td>   23.971</td> <td>   43.501</td>\n",
              "</tr>\n",
              "<tr>\n",
              "  <th>sqft_basement</th> <td>   58.5723</td> <td>    5.840</td> <td>   10.030</td> <td> 0.000</td> <td>   47.123</td> <td>   70.021</td>\n",
              "</tr>\n",
              "<tr>\n",
              "  <th>yr_built</th>      <td>-3666.8957</td> <td>  150.805</td> <td>  -24.316</td> <td> 0.000</td> <td>-3962.551</td> <td>-3371.241</td>\n",
              "</tr>\n",
              "<tr>\n",
              "  <th>yr_renovated</th>  <td>   17.7032</td> <td>    8.265</td> <td>    2.142</td> <td> 0.032</td> <td>    1.499</td> <td>   33.908</td>\n",
              "</tr>\n",
              "<tr>\n",
              "  <th>sqft_living15</th> <td>   23.0114</td> <td>    7.561</td> <td>    3.044</td> <td> 0.002</td> <td>    8.188</td> <td>   37.834</td>\n",
              "</tr>\n",
              "<tr>\n",
              "  <th>sqft_lot15</th>    <td>   -0.2323</td> <td>    0.142</td> <td>   -1.637</td> <td> 0.102</td> <td>   -0.511</td> <td>    0.046</td>\n",
              "</tr>\n",
              "</table>\n",
              "<table class=\"simpletable\">\n",
              "<tr>\n",
              "  <th>Omnibus:</th>       <td>2170.721</td> <th>  Durbin-Watson:     </th> <td>   2.011</td> \n",
              "</tr>\n",
              "<tr>\n",
              "  <th>Prob(Omnibus):</th>  <td> 0.000</td>  <th>  Jarque-Bera (JB):  </th> <td>38362.875</td>\n",
              "</tr>\n",
              "<tr>\n",
              "  <th>Skew:</th>           <td> 1.971</td>  <th>  Prob(JB):          </th> <td>    0.00</td> \n",
              "</tr>\n",
              "<tr>\n",
              "  <th>Kurtosis:</th>       <td>17.051</td>  <th>  Cond. No.          </th> <td>1.94e+17</td> \n",
              "</tr>\n",
              "</table><br/><br/>Notes:<br/>[1] Standard Errors assume that the covariance matrix of the errors is correctly specified.<br/>[2] The smallest eigenvalue is 4.29e-22. This might indicate that there are<br/>strong multicollinearity problems or that the design matrix is singular."
            ],
            "text/latex": "\\begin{center}\n\\begin{tabular}{lclc}\n\\toprule\n\\textbf{Dep. Variable:}    &      price       & \\textbf{  R-squared:         } &     0.681   \\\\\n\\textbf{Model:}            &       OLS        & \\textbf{  Adj. R-squared:    } &     0.680   \\\\\n\\textbf{Method:}           &  Least Squares   & \\textbf{  F-statistic:       } &     656.0   \\\\\n\\textbf{Date:}             & Wed, 01 Nov 2023 & \\textbf{  Prob (F-statistic):} &     0.00    \\\\\n\\textbf{Time:}             &     08:22:27     & \\textbf{  Log-Likelihood:    } &   -58960.   \\\\\n\\textbf{No. Observations:} &        4323      & \\textbf{  AIC:               } & 1.180e+05   \\\\\n\\textbf{Df Residuals:}     &        4308      & \\textbf{  BIC:               } & 1.180e+05   \\\\\n\\textbf{Df Model:}         &          14      & \\textbf{                     } &             \\\\\n\\textbf{Covariance Type:}  &    nonrobust     & \\textbf{                     } &             \\\\\n\\bottomrule\n\\end{tabular}\n\\begin{tabular}{lcccccc}\n                        & \\textbf{coef} & \\textbf{std err} & \\textbf{t} & \\textbf{P$> |$t$|$} & \\textbf{[0.025} & \\textbf{0.975]}  \\\\\n\\midrule\n\\textbf{Intercept}      &    6.302e+06  &     2.95e+05     &    21.401  &         0.000        &     5.73e+06    &     6.88e+06     \\\\\n\\textbf{bedrooms}       &     -2.5e+04  &     3680.510     &    -6.791  &         0.000        &    -3.22e+04    &    -1.78e+04     \\\\\n\\textbf{bathrooms}      &    5.179e+04  &     7163.408     &     7.230  &         0.000        &     3.77e+04    &     6.58e+04     \\\\\n\\textbf{sqft\\_living}   &      92.3080  &        5.074     &    18.192  &         0.000        &       82.360    &      102.256     \\\\\n\\textbf{sqft\\_lot}      &       0.0054  &        0.093     &     0.059  &         0.953        &       -0.176    &        0.187     \\\\\n\\textbf{floors}         &    3.748e+04  &     8141.392     &     4.604  &         0.000        &     2.15e+04    &     5.34e+04     \\\\\n\\textbf{waterfront}     &    6.277e+05  &     3.91e+04     &    16.064  &         0.000        &     5.51e+05    &     7.04e+05     \\\\\n\\textbf{view}           &     4.04e+04  &     4797.344     &     8.421  &         0.000        &      3.1e+04    &     4.98e+04     \\\\\n\\textbf{condition}      &    1.571e+04  &     5317.387     &     2.954  &         0.003        &     5280.918    &     2.61e+04     \\\\\n\\textbf{grade}          &    1.306e+05  &     4700.604     &    27.789  &         0.000        &     1.21e+05    &      1.4e+05     \\\\\n\\textbf{sqft\\_above}    &      33.7358  &        4.981     &     6.773  &         0.000        &       23.971    &       43.501     \\\\\n\\textbf{sqft\\_basement} &      58.5723  &        5.840     &    10.030  &         0.000        &       47.123    &       70.021     \\\\\n\\textbf{yr\\_built}      &   -3666.8957  &      150.805     &   -24.316  &         0.000        &    -3962.551    &    -3371.241     \\\\\n\\textbf{yr\\_renovated}  &      17.7032  &        8.265     &     2.142  &         0.032        &        1.499    &       33.908     \\\\\n\\textbf{sqft\\_living15} &      23.0114  &        7.561     &     3.044  &         0.002        &        8.188    &       37.834     \\\\\n\\textbf{sqft\\_lot15}    &      -0.2323  &        0.142     &    -1.637  &         0.102        &       -0.511    &        0.046     \\\\\n\\bottomrule\n\\end{tabular}\n\\begin{tabular}{lclc}\n\\textbf{Omnibus:}       & 2170.721 & \\textbf{  Durbin-Watson:     } &     2.011  \\\\\n\\textbf{Prob(Omnibus):} &   0.000  & \\textbf{  Jarque-Bera (JB):  } & 38362.875  \\\\\n\\textbf{Skew:}          &   1.971  & \\textbf{  Prob(JB):          } &      0.00  \\\\\n\\textbf{Kurtosis:}      &  17.051  & \\textbf{  Cond. No.          } &  1.94e+17  \\\\\n\\bottomrule\n\\end{tabular}\n%\\caption{OLS Regression Results}\n\\end{center}\n\nNotes: \\newline\n [1] Standard Errors assume that the covariance matrix of the errors is correctly specified. \\newline\n [2] The smallest eigenvalue is 4.29e-22. This might indicate that there are \\newline\n strong multicollinearity problems or that the design matrix is singular."
          },
          "metadata": {},
          "execution_count": 19
        }
      ]
    },
    {
      "cell_type": "markdown",
      "id": "0bbf5954",
      "metadata": {
        "id": "0bbf5954"
      },
      "source": [
        "# 문제 07 유형(DataSet_07.csv 이용)"
      ]
    },
    {
      "cell_type": "code",
      "execution_count": null,
      "id": "2e04f741",
      "metadata": {
        "id": "2e04f741"
      },
      "outputs": [],
      "source": [
        "# =============================================================================\n",
        "# 구분자 : comma(“,”), 400 Rows, 9 Columns, UTF-8 인코딩\n",
        "#\n",
        "# 대학원 진학을 위하여 어떤 항목이 중요하게 영향을 미치는지\n",
        "# 아래 데이터로 분석하고자 한다.\n",
        "\n",
        "# 컬 럼 / 정 의 / Type\n",
        "# Serial_No / 구분자 번호 / Double\n",
        "# GRE / GRE 시험 성적 / Double\n",
        "# TOEFL / TOEFL 시험 성적 / Double\n",
        "# University_Rating / 대학 평가 그룹 (1 ~ 5) / Double\n",
        "# SOP / 자기 소개서 점수 (1 ~ 5) / Double\n",
        "# LOR / 추천서 점수 (1 ~ 5) / Double\n",
        "# CGPA / 학부 평량 평점 (10점 만점 환산 점수) / Double\n",
        "# Research / 연구 참여 경험 여부 (0 / 1) / Double\n",
        "# Chance_of_Admit / 합격 가능성 / Double\n",
        "# =============================================================================\n",
        "# =============================================================================\n",
        "\n",
        "# =============================================================================\n",
        "# (참고)\n",
        "# #1\n",
        "# import pandas as pd\n",
        "# #2\n",
        "# import scipy.stats as stats\n",
        "# #3\n",
        "# from sklearn.linear_model import LogisticRegression\n",
        "# Solver = ‘liblinear’, random_state = 12\n",
        "# ============================================================================="
      ]
    },
    {
      "cell_type": "code",
      "execution_count": null,
      "id": "aaec14d4",
      "metadata": {
        "id": "aaec14d4"
      },
      "outputs": [],
      "source": []
    },
    {
      "cell_type": "code",
      "execution_count": null,
      "id": "ce844b57",
      "metadata": {
        "id": "ce844b57"
      },
      "outputs": [],
      "source": []
    },
    {
      "cell_type": "code",
      "execution_count": null,
      "id": "5d596143",
      "metadata": {
        "id": "5d596143"
      },
      "outputs": [],
      "source": [
        "# =============================================================================\n",
        "# 1. 합격 가능성에 GRE, TOEFL, CGPA 점수 가운데 가장 영향이 큰 것이 어떤 점수인지\n",
        "# 알아 보기 위해서 상관 분석을 수행한다.\n",
        "# - 피어슨(Pearson) 상관계수 값을 구한다.\n",
        "# - Chance_of_Admit와의 가장 큰 상관계수 값을 가지는 항목의 상관계수를 소수점 넷째\n",
        "# 자리에서 반올림하여 셋째 자리까지 기술하시오. (답안 예시) 0.123\n",
        "# ============================================================================="
      ]
    },
    {
      "cell_type": "code",
      "execution_count": null,
      "id": "f0384565",
      "metadata": {
        "id": "f0384565"
      },
      "outputs": [],
      "source": []
    },
    {
      "cell_type": "code",
      "execution_count": null,
      "id": "17981cf3",
      "metadata": {
        "id": "17981cf3"
      },
      "outputs": [],
      "source": []
    },
    {
      "cell_type": "code",
      "execution_count": null,
      "id": "df044255",
      "metadata": {
        "id": "df044255"
      },
      "outputs": [],
      "source": [
        "# =============================================================================\n",
        "# 2.GRE 점수의 평균 이상을 받은 그룹과 평균 미만을 받은 그룹의 CGPA 평균은 차이가\n",
        "# 있는지\n",
        "# 검정을 하고자 한다.\n",
        "# - 적절한 검정 방법을 선택하고 양측 검정을 수행하시오 (등분산으로 가정)\n",
        "# - 검정 결과, 검정통계량의 추정치를 소수점 셋째 자리에서 반올림하여 소수점 두 자리까지\n",
        "# 기술하시오.\n",
        "# (답안 예시) 1.23\n",
        "# ============================================================================="
      ]
    },
    {
      "cell_type": "code",
      "execution_count": null,
      "id": "aa171368",
      "metadata": {
        "id": "aa171368"
      },
      "outputs": [],
      "source": []
    },
    {
      "cell_type": "code",
      "execution_count": null,
      "id": "96f5156b",
      "metadata": {
        "id": "96f5156b"
      },
      "outputs": [],
      "source": []
    },
    {
      "cell_type": "code",
      "execution_count": null,
      "id": "2c744468",
      "metadata": {
        "id": "2c744468"
      },
      "outputs": [],
      "source": [
        "# =============================================================================\n",
        "# 3.Chance_of_Admit 확률이 0.5를 초과하면 합격으로, 이하이면 불합격으로 구분하고\n",
        "# 로지스틱 회귀분석을 수행하시오.\n",
        "# - 원데이터만 사용하고, 원데이터 가운데 Serial_No와 Label은 모형에서 제외\n",
        "# - 각 설정값은 다음과 같이 지정하고, 언급되지 않은 사항은 기본 설정값을 사용하시오\n",
        "# Seed : 123\n",
        "# - 로지스틱 회귀분석 수행 결과에서 로지스틱 회귀계수의 절대값이 가장 큰 변수와 그 값을\n",
        "# 기술하시오.\n",
        "# (로지스틱 회귀계수는 반올림하여 소수점 둘째 자리까지 / Intercept는 제외)\n",
        "# (답안 예시) abc, 0.12\n",
        "# ============================================================================="
      ]
    },
    {
      "cell_type": "code",
      "execution_count": null,
      "id": "96f8f708",
      "metadata": {
        "id": "96f8f708"
      },
      "outputs": [],
      "source": []
    },
    {
      "cell_type": "code",
      "execution_count": null,
      "id": "cf53a96d",
      "metadata": {
        "id": "cf53a96d"
      },
      "outputs": [],
      "source": []
    },
    {
      "cell_type": "markdown",
      "id": "49cfc502",
      "metadata": {
        "id": "49cfc502"
      },
      "source": [
        "# 문제 08 유형(DataSet_08.csv 이용)"
      ]
    },
    {
      "cell_type": "code",
      "execution_count": null,
      "id": "b2ee895f",
      "metadata": {
        "id": "b2ee895f"
      },
      "outputs": [],
      "source": [
        "# =============================================================================\n",
        "# 구분자 : comma(“,”), 50 Rows, 5 Columns, UTF-8 인코딩\n",
        "#\n",
        "# 스타트업 기업들의 수익성에 대한 분석을 하기 위하여\n",
        "# 아래와 같은 데이터를 입수하였다\n",
        "#\n",
        "#\n",
        "# 컬 럼 / 정 의 / Type\n",
        "# RandD_Spend / 연구개발비 지출 / Double\n",
        "# Administration / 운영관리비 지출 / Double\n",
        "# Marketing_Spend / 마케팅비 지출 / Double\n",
        "# State / 본사 위치 / String\n",
        "# Profit / 이익 / Double\n",
        "# =============================================================================\n",
        "# =============================================================================\n",
        "\n",
        "# =============================================================================\n",
        "# (참고)\n",
        "# #1\n",
        "# import pandas as pd\n",
        "# import numpy as np\n",
        "# #3\n",
        "# from sklearn.linear_model import LinearRegression\n",
        "# ============================================================================="
      ]
    },
    {
      "cell_type": "code",
      "execution_count": null,
      "id": "1c479e6d",
      "metadata": {
        "id": "1c479e6d"
      },
      "outputs": [],
      "source": []
    },
    {
      "cell_type": "code",
      "execution_count": null,
      "id": "04955f93",
      "metadata": {
        "id": "04955f93"
      },
      "outputs": [],
      "source": []
    },
    {
      "cell_type": "code",
      "execution_count": null,
      "id": "bc69956e",
      "metadata": {
        "id": "bc69956e"
      },
      "outputs": [],
      "source": [
        "# =============================================================================\n",
        "# 1.각 주(State)별 데이터 구성비를 소수점 둘째 자리까지 구하고, 알파벳 순으로\n",
        "# 기술하시오(주 이름 기준).\n",
        "# (답안 예시) 0.12, 0.34, 0.54\n",
        "# ============================================================================="
      ]
    },
    {
      "cell_type": "code",
      "execution_count": null,
      "id": "da90f80a",
      "metadata": {
        "id": "da90f80a"
      },
      "outputs": [],
      "source": []
    },
    {
      "cell_type": "code",
      "execution_count": null,
      "id": "0154aa0f",
      "metadata": {
        "id": "0154aa0f"
      },
      "outputs": [],
      "source": []
    },
    {
      "cell_type": "code",
      "execution_count": null,
      "id": "2c86c11d",
      "metadata": {
        "id": "2c86c11d"
      },
      "outputs": [],
      "source": [
        "# =============================================================================\n",
        "# 2.주별 이익의 평균을 구하고, 평균 이익이 가장 큰 주와 작은 주의 차이를 구하시오.\n",
        "# 차이값은 소수점 이하는 버리고 정수부분만 기술하시오. (답안 예시) 1234\n",
        "# ============================================================================="
      ]
    },
    {
      "cell_type": "code",
      "execution_count": null,
      "id": "e869f79a",
      "metadata": {
        "id": "e869f79a"
      },
      "outputs": [],
      "source": []
    },
    {
      "cell_type": "code",
      "execution_count": null,
      "id": "7c063132",
      "metadata": {
        "id": "7c063132"
      },
      "outputs": [],
      "source": []
    },
    {
      "cell_type": "code",
      "execution_count": null,
      "id": "64ff523c",
      "metadata": {
        "id": "64ff523c"
      },
      "outputs": [],
      "source": [
        "# =============================================================================\n",
        "# 3.독립변수로 RandD_Spend, Administration, Marketing_Spend를 사용하여 Profit을 주별로\n",
        "# 예측하는 회귀 모형을 만들고, 이 회귀모형을 사용하여 학습오차를 산출하시오.\n",
        "# - 주별로 계산된 학습오차 중 MAPE 기준으로 가장 낮은 오차를 보이는 주는 어느\n",
        "# 주이고 그 값은 무엇인가? (반올림하여 소수점 둘째 자리까지 기술하시오)\n",
        "# - (MAPE = Σ ( | y - y ̂ | / y ) * 100/n )\n",
        "# (답안 예시) ABC, 1.56\n",
        "# ============================================================================="
      ]
    },
    {
      "cell_type": "code",
      "execution_count": null,
      "id": "f378cf27",
      "metadata": {
        "id": "f378cf27"
      },
      "outputs": [],
      "source": []
    },
    {
      "cell_type": "code",
      "execution_count": null,
      "id": "5ef0cbbe",
      "metadata": {
        "id": "5ef0cbbe"
      },
      "outputs": [],
      "source": []
    },
    {
      "cell_type": "markdown",
      "id": "bf173895",
      "metadata": {
        "id": "bf173895"
      },
      "source": [
        "# 문제 09 유형(DataSet_09.csv 이용)"
      ]
    },
    {
      "cell_type": "code",
      "execution_count": null,
      "id": "f697c213",
      "metadata": {
        "id": "f697c213"
      },
      "outputs": [],
      "source": [
        "# =============================================================================\n",
        "# 구분자 : comma(“,”), 2000 Rows, 16 Columns, UTF-8 인코딩\n",
        "#\n",
        "# 항공사에서 고객만족도 조사를 하고 서비스 개선에 활용하고자\n",
        "# 아래와 같은 데이터를 준비하였다.\n",
        "#\n",
        "# 컬 럼 / 정 의 / Type\n",
        "# satisfaction / 서비스 만족 여부 / String\n",
        "# Gender / 성별 / String\n",
        "# Age / 나이 / Double\n",
        "# Customer_Type / 고객 타입 / String\n",
        "# Class / 탑승 좌석 등급 / String\n",
        "# Flight_Distance / 비행 거리 / Double\n",
        "# Seat_comfort / 좌석 안락도 점수 / Double\n",
        "# Food_and_Drink / 식사와 음료 점수 / Double\n",
        "# Inflight_wifi_service / 기내 와이파이 서비스 점수 / Double\n",
        "# Inflight_entertainment / 기내 엔터테인먼트 서비스 점수 / Double\n",
        "# Onboard_service / 탑승 서비스 점수 / Double\n",
        "# Leg_room_service / 다리 공간 점수 / Double\n",
        "# Baggage_handling / 수하물 취급 점수 / Double\n",
        "# Cleanliness / 청결도 점수 / Double\n",
        "# Departure_Daly_in_Minutes / 출발 지연 (분) / Double\n",
        "# Arrival_Delay_in_Minutes / 도착 지연 (분) / Double\n",
        "# =============================================================================\n",
        "# =============================================================================\n",
        "\n",
        "# =============================================================================\n",
        "# (참고)\n",
        "# #1\n",
        "# import pandas as pd\n",
        "# import numpy as np\n",
        "# #2\n",
        "# import scipy.stats as stats\n",
        "# #3\n",
        "# from sklearn.linear_model import LogisticRegression\n",
        "# from sklearn.model_selection import train_test_split\n",
        "# from sklearn import metrics\n",
        "#\n",
        "# ============================================================================="
      ]
    },
    {
      "cell_type": "code",
      "execution_count": null,
      "id": "6b2df10e",
      "metadata": {
        "id": "6b2df10e"
      },
      "outputs": [],
      "source": [
        "# =============================================================================\n",
        "# 1.데이터 타입을 위 표에 정의된 타입으로 전처리를 한 후, 데이터 파일 내에 결측값은\n",
        "# 총 몇 개인가? (답안 예시) 1\n",
        "# ============================================================================="
      ]
    },
    {
      "cell_type": "code",
      "execution_count": null,
      "id": "c2c527ed",
      "metadata": {
        "id": "c2c527ed"
      },
      "outputs": [],
      "source": []
    },
    {
      "cell_type": "code",
      "execution_count": null,
      "id": "2f55e8aa",
      "metadata": {
        "id": "2f55e8aa"
      },
      "outputs": [],
      "source": []
    },
    {
      "cell_type": "code",
      "execution_count": null,
      "id": "926d0818",
      "metadata": {
        "id": "926d0818"
      },
      "outputs": [],
      "source": [
        "# =============================================================================\n",
        "# 2.다음에 제시된 데이터 처리를 하고 카이제곱 독립성 검정을 수행하시오.\n",
        "# - 결측값이 있다면 해당 행을 제거하시오.\n",
        "# - 나이는 20 이하이면 10, 30 이하이면 20, 40 이하이면 30, 50 이하이면 40, 60 이하이면 50,\n",
        "# 60 초과는 60으로 변환하여 Age_gr으로 파생변수를 생성하시오.\n",
        "# - Age_gr, Gender, Customer_Type, Class 변수가 satisfaction에 영향이 있는지 카이제곱\n",
        "# 독립성 검정을 수행하시오.\n",
        "# - 연관성이 있는 것으로 파악된 변수의 검정통계량 추정치를 정수 부분만 기술하시오.\n",
        "# (답안 예시) 123\n",
        "# ============================================================================="
      ]
    },
    {
      "cell_type": "code",
      "execution_count": null,
      "id": "e305d6b6",
      "metadata": {
        "id": "e305d6b6"
      },
      "outputs": [],
      "source": [
        "#%%\n",
        "\n",
        "# =============================================================================\n",
        "# 3.고객 만족도를 라벨로 하여 다음과 같이 로지스틱 회귀분석을 수행하시오.\n",
        "# - 결측치가 포함된 행은 제거\n",
        "# - 데이터를 7대 3으로 분리 (Seed = 123)\n",
        "# - 아래의 11개 변수를 Feature로 사용\n",
        "# Flight_Distance, Seat_comfort, Food_and_drink, Inflight_wifi_service,\n",
        "# Inflight_entertainment,Onboard_service, Leg_room_service, Baggage_handling,\n",
        "# Cleanliness, Departure_Delay_in_Minutes, Arrival_Delay_in_Minutes\n",
        "#\n",
        "# - Seed = 123, 이외의 항목은 모두 Default 사용\n",
        "# - 예측 정확도를 측정하고 dissatisfied의 f1 score를 소수점 넷째 자리에서 반올림하여\n",
        "# 소수점 셋째 자리까지 기술하시오. (답안 예시) 0.123\n",
        "# =============================================================================\n",
        "\n",
        "\n",
        "\n",
        "\n",
        "\n",
        "\n",
        "\n",
        "\n",
        "\n",
        "\n",
        "\n",
        "\n",
        "\n",
        "\n",
        "\n",
        "#%%\n",
        "\n",
        "# =============================================================================\n",
        "# =============================================================================\n",
        "# # 문제 10 유형(DataSet_10.csv 이용)\n",
        "#\n",
        "# 구분자 : comma(“,”), 1538 Rows, 6 Columns, UTF-8 인코딩\n",
        "\n",
        "# 중고 자동차 가격에 대한 분석을 위하여 아래와 같은 데이터를\n",
        "# 확보하였다.\n",
        "\n",
        "# 컬 럼 / 정 의 / Type\n",
        "# model / 모델명 / String\n",
        "# engine_power / 엔진 파워 / Double\n",
        "# age_in_days / 운행 일수 / Double\n",
        "# km / 운행 거리 / Double\n",
        "# previous_owners / 이전 소유자 수 / Double\n",
        "# price / 중고차 가격 / Double\n",
        "# =============================================================================\n",
        "# =============================================================================\n",
        "\n",
        "# =============================================================================\n",
        "# (참고)\n",
        "# #1\n",
        "# import pandas as pd\n",
        "# import numpy as np\n",
        "# #2\n",
        "# import scipy.stats as ststs\n",
        "# #3\n",
        "# from sklearn.linear_model import LinearRegression\n",
        "# =============================================================================\n",
        "\n",
        "\n",
        "#%%\n",
        "\n",
        "# =============================================================================\n",
        "# 1.이전 소유자 수가 한 명이고 엔진 파워가 51인 차에 대해 모델별 하루 평균 운행\n",
        "# 거리를 산출하였을 때 가장 낮은 값을 가진 모델이 가장 큰 값을 가진 모델에 대한\n",
        "# 비율은 얼마인가? 소수점 셋째 자리에서 반올림하여 소수점 둘째 자리까지\n",
        "# 기술하시오.\n",
        "# (모델별 평균 → 일평균 → 최대최소 비율 계산) (답안 예시) 0.12\n",
        "# =============================================================================\n",
        "\n",
        "\n",
        "\n",
        "\n",
        "\n",
        "\n",
        "\n",
        "\n",
        "\n",
        "\n",
        "\n",
        "\n",
        "\n",
        "#%%\n",
        "\n",
        "# =============================================================================\n",
        "# 2.운행 일수에 대한 운행 거리를 산출하고, 위 1번 문제에서 가장 큰 값을 가지고 있던\n",
        "# 모델과 가장 낮은 값을 가지고 있던 모델 간의 운행 일수 대비 운행거리 평균이 다른지\n",
        "# 적절한 통계 검정을 수행하고 p-value를 소수점 세자리 이하는 버리고 소수점\n",
        "# 두자리까지 기술하고 기각 여부를 Y / N로 답하시오. (등분산을 가정하고 equal_var =\n",
        "# True / var.equal = T로 분석을 실행하시오.)\n",
        "# (답안 예시) 0.23, Y\n",
        "# =============================================================================\n",
        "\n",
        "\n",
        "\n",
        "\n",
        "\n",
        "\n",
        "\n",
        "\n",
        "\n",
        "\n",
        "#%%\n",
        "\n",
        "# =============================================================================\n",
        "# 3.독립변수로 engine_power, age_in_days, km를 사용하고 종속변수로 price를 사용하여\n",
        "# 모델별 선형회귀분석을 수행하고, 산출된 모형을 사용하여 다음과 같은 조건의\n",
        "# 중고차에 대한 가격을 예측하고 예측된 가격을 정수부만 기술하시오.\n",
        "# - model : pop / engine_power : 51 / age_in_days : 400 / km : 9500 / previous_owners : 2\n",
        "\n",
        "# (답안 예시) 12345\n",
        "# =============================================================================\n",
        "# model = pop이고 이전 소유자수가 2명인 데이터만을 이용하여 회귀모델을 생성하시오."
      ]
    }
  ],
  "metadata": {
    "kernelspec": {
      "display_name": "Python 3",
      "language": "python",
      "name": "python3"
    },
    "language_info": {
      "codemirror_mode": {
        "name": "ipython",
        "version": 3
      },
      "file_extension": ".py",
      "mimetype": "text/x-python",
      "name": "python",
      "nbconvert_exporter": "python",
      "pygments_lexer": "ipython3",
      "version": "3.8.8"
    },
    "colab": {
      "provenance": [],
      "include_colab_link": true
    }
  },
  "nbformat": 4,
  "nbformat_minor": 5
}